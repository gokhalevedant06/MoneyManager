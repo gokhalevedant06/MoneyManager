{
 "metadata": {
  "language_info": {
   "codemirror_mode": {
    "name": "ipython",
    "version": 3
   },
   "file_extension": ".py",
   "mimetype": "text/x-python",
   "name": "python",
   "nbconvert_exporter": "python",
   "pygments_lexer": "ipython3",
   "version": "3.9.5"
  },
  "orig_nbformat": 4,
  "kernelspec": {
   "name": "python3",
   "display_name": "Python 3.9.5 64-bit ('money_manager': conda)"
  },
  "interpreter": {
   "hash": "1a38ce45ad77bae26ed6e86e34206e325852d205063631575dd52ba1273409df"
  }
 },
 "nbformat": 4,
 "nbformat_minor": 2,
 "cells": [
  {
   "cell_type": "code",
   "execution_count": 8,
   "metadata": {},
   "outputs": [
    {
     "output_type": "execute_result",
     "data": {
      "text/plain": [
       "               Open     High      Low    Close  Volume Currency\n",
       "Date                                                           \n",
       "2003-03-01  3301.67  3311.57  3039.83  3048.72       0      INR\n",
       "2003-04-01  3037.54  3221.90  2904.44  2959.79       0      INR\n",
       "2003-05-01  2949.04  3200.48  2934.78  3180.75       0      INR\n",
       "2003-06-01  3176.56  3632.84  3170.38  3607.13       0      INR\n",
       "2003-07-01  3617.74  3835.75  3534.06  3792.61       0      INR"
      ],
      "text/html": "<div>\n<style scoped>\n    .dataframe tbody tr th:only-of-type {\n        vertical-align: middle;\n    }\n\n    .dataframe tbody tr th {\n        vertical-align: top;\n    }\n\n    .dataframe thead th {\n        text-align: right;\n    }\n</style>\n<table border=\"1\" class=\"dataframe\">\n  <thead>\n    <tr style=\"text-align: right;\">\n      <th></th>\n      <th>Open</th>\n      <th>High</th>\n      <th>Low</th>\n      <th>Close</th>\n      <th>Volume</th>\n      <th>Currency</th>\n    </tr>\n    <tr>\n      <th>Date</th>\n      <th></th>\n      <th></th>\n      <th></th>\n      <th></th>\n      <th></th>\n      <th></th>\n    </tr>\n  </thead>\n  <tbody>\n    <tr>\n      <th>2003-03-01</th>\n      <td>3301.67</td>\n      <td>3311.57</td>\n      <td>3039.83</td>\n      <td>3048.72</td>\n      <td>0</td>\n      <td>INR</td>\n    </tr>\n    <tr>\n      <th>2003-04-01</th>\n      <td>3037.54</td>\n      <td>3221.90</td>\n      <td>2904.44</td>\n      <td>2959.79</td>\n      <td>0</td>\n      <td>INR</td>\n    </tr>\n    <tr>\n      <th>2003-05-01</th>\n      <td>2949.04</td>\n      <td>3200.48</td>\n      <td>2934.78</td>\n      <td>3180.75</td>\n      <td>0</td>\n      <td>INR</td>\n    </tr>\n    <tr>\n      <th>2003-06-01</th>\n      <td>3176.56</td>\n      <td>3632.84</td>\n      <td>3170.38</td>\n      <td>3607.13</td>\n      <td>0</td>\n      <td>INR</td>\n    </tr>\n    <tr>\n      <th>2003-07-01</th>\n      <td>3617.74</td>\n      <td>3835.75</td>\n      <td>3534.06</td>\n      <td>3792.61</td>\n      <td>0</td>\n      <td>INR</td>\n    </tr>\n  </tbody>\n</table>\n</div>"
     },
     "metadata": {},
     "execution_count": 8
    }
   ],
   "source": [
    "import investpy\n",
    "from datetime import date\n",
    "date = date.today()\n",
    "date = f\"{date.day}/{date.month}/{date.year}\"\n",
    "\n",
    "df = investpy.get_index_historical_data(index=\"bse sensex\", country=\"INDIA\", from_date=\"01/11/2000\", to_date=date, interval=\"Monthly\")\n",
    "df.head()"
   ]
  },
  {
   "cell_type": "code",
   "execution_count": 4,
   "metadata": {},
   "outputs": [
    {
     "output_type": "execute_result",
     "data": {
      "text/plain": [
       "                Open      High       Low     Close\n",
       "Date                                              \n",
       "2011-11-01   5278.60   5326.45   4639.10   4832.05\n",
       "2011-12-01   4970.85   5099.25   4531.15   4624.30\n",
       "2012-01-01   4640.20   5217.00   4588.05   5199.25\n",
       "2012-02-01   5198.15   5629.95   5159.00   5385.20\n",
       "2012-03-01   5366.00   5499.40   5135.95   5295.55\n",
       "...              ...       ...       ...       ...\n",
       "2021-03-01  14702.50  15336.30  14264.40  14690.70\n",
       "2021-04-01  14798.40  15044.35  14151.40  14631.10\n",
       "2021-05-01  14481.05  15606.35  14416.25  15582.80\n",
       "2021-06-01  15617.15  15904.05  15452.20  15721.50\n",
       "2021-07-01  15750.05  15913.95  15634.50  15752.35\n",
       "\n",
       "[117 rows x 4 columns]"
      ],
      "text/html": "<div>\n<style scoped>\n    .dataframe tbody tr th:only-of-type {\n        vertical-align: middle;\n    }\n\n    .dataframe tbody tr th {\n        vertical-align: top;\n    }\n\n    .dataframe thead th {\n        text-align: right;\n    }\n</style>\n<table border=\"1\" class=\"dataframe\">\n  <thead>\n    <tr style=\"text-align: right;\">\n      <th></th>\n      <th>Open</th>\n      <th>High</th>\n      <th>Low</th>\n      <th>Close</th>\n    </tr>\n    <tr>\n      <th>Date</th>\n      <th></th>\n      <th></th>\n      <th></th>\n      <th></th>\n    </tr>\n  </thead>\n  <tbody>\n    <tr>\n      <th>2011-11-01</th>\n      <td>5278.60</td>\n      <td>5326.45</td>\n      <td>4639.10</td>\n      <td>4832.05</td>\n    </tr>\n    <tr>\n      <th>2011-12-01</th>\n      <td>4970.85</td>\n      <td>5099.25</td>\n      <td>4531.15</td>\n      <td>4624.30</td>\n    </tr>\n    <tr>\n      <th>2012-01-01</th>\n      <td>4640.20</td>\n      <td>5217.00</td>\n      <td>4588.05</td>\n      <td>5199.25</td>\n    </tr>\n    <tr>\n      <th>2012-02-01</th>\n      <td>5198.15</td>\n      <td>5629.95</td>\n      <td>5159.00</td>\n      <td>5385.20</td>\n    </tr>\n    <tr>\n      <th>2012-03-01</th>\n      <td>5366.00</td>\n      <td>5499.40</td>\n      <td>5135.95</td>\n      <td>5295.55</td>\n    </tr>\n    <tr>\n      <th>...</th>\n      <td>...</td>\n      <td>...</td>\n      <td>...</td>\n      <td>...</td>\n    </tr>\n    <tr>\n      <th>2021-03-01</th>\n      <td>14702.50</td>\n      <td>15336.30</td>\n      <td>14264.40</td>\n      <td>14690.70</td>\n    </tr>\n    <tr>\n      <th>2021-04-01</th>\n      <td>14798.40</td>\n      <td>15044.35</td>\n      <td>14151.40</td>\n      <td>14631.10</td>\n    </tr>\n    <tr>\n      <th>2021-05-01</th>\n      <td>14481.05</td>\n      <td>15606.35</td>\n      <td>14416.25</td>\n      <td>15582.80</td>\n    </tr>\n    <tr>\n      <th>2021-06-01</th>\n      <td>15617.15</td>\n      <td>15904.05</td>\n      <td>15452.20</td>\n      <td>15721.50</td>\n    </tr>\n    <tr>\n      <th>2021-07-01</th>\n      <td>15750.05</td>\n      <td>15913.95</td>\n      <td>15634.50</td>\n      <td>15752.35</td>\n    </tr>\n  </tbody>\n</table>\n<p>117 rows × 4 columns</p>\n</div>"
     },
     "metadata": {},
     "execution_count": 4
    }
   ],
   "source": [
    "adjusted = df.drop(columns=['Volume', 'Currency'])\n",
    "adjusted"
   ]
  },
  {
   "cell_type": "code",
   "execution_count": 5,
   "metadata": {},
   "outputs": [],
   "source": [
    "date = df.index.strftime(\"%b %d %Y\")\n",
    "date = date.to_flat_index()"
   ]
  },
  {
   "cell_type": "code",
   "execution_count": 6,
   "metadata": {},
   "outputs": [
    {
     "output_type": "execute_result",
     "data": {
      "text/plain": [
       "         Open      High       Low     Close\n",
       "0     5278.60   5326.45   4639.10   4832.05\n",
       "1     4970.85   5099.25   4531.15   4624.30\n",
       "2     4640.20   5217.00   4588.05   5199.25\n",
       "3     5198.15   5629.95   5159.00   5385.20\n",
       "4     5366.00   5499.40   5135.95   5295.55\n",
       "..        ...       ...       ...       ...\n",
       "112  14702.50  15336.30  14264.40  14690.70\n",
       "113  14798.40  15044.35  14151.40  14631.10\n",
       "114  14481.05  15606.35  14416.25  15582.80\n",
       "115  15617.15  15904.05  15452.20  15721.50\n",
       "116  15750.05  15913.95  15634.50  15752.35\n",
       "\n",
       "[117 rows x 4 columns]"
      ],
      "text/html": "<div>\n<style scoped>\n    .dataframe tbody tr th:only-of-type {\n        vertical-align: middle;\n    }\n\n    .dataframe tbody tr th {\n        vertical-align: top;\n    }\n\n    .dataframe thead th {\n        text-align: right;\n    }\n</style>\n<table border=\"1\" class=\"dataframe\">\n  <thead>\n    <tr style=\"text-align: right;\">\n      <th></th>\n      <th>Open</th>\n      <th>High</th>\n      <th>Low</th>\n      <th>Close</th>\n    </tr>\n  </thead>\n  <tbody>\n    <tr>\n      <th>0</th>\n      <td>5278.60</td>\n      <td>5326.45</td>\n      <td>4639.10</td>\n      <td>4832.05</td>\n    </tr>\n    <tr>\n      <th>1</th>\n      <td>4970.85</td>\n      <td>5099.25</td>\n      <td>4531.15</td>\n      <td>4624.30</td>\n    </tr>\n    <tr>\n      <th>2</th>\n      <td>4640.20</td>\n      <td>5217.00</td>\n      <td>4588.05</td>\n      <td>5199.25</td>\n    </tr>\n    <tr>\n      <th>3</th>\n      <td>5198.15</td>\n      <td>5629.95</td>\n      <td>5159.00</td>\n      <td>5385.20</td>\n    </tr>\n    <tr>\n      <th>4</th>\n      <td>5366.00</td>\n      <td>5499.40</td>\n      <td>5135.95</td>\n      <td>5295.55</td>\n    </tr>\n    <tr>\n      <th>...</th>\n      <td>...</td>\n      <td>...</td>\n      <td>...</td>\n      <td>...</td>\n    </tr>\n    <tr>\n      <th>112</th>\n      <td>14702.50</td>\n      <td>15336.30</td>\n      <td>14264.40</td>\n      <td>14690.70</td>\n    </tr>\n    <tr>\n      <th>113</th>\n      <td>14798.40</td>\n      <td>15044.35</td>\n      <td>14151.40</td>\n      <td>14631.10</td>\n    </tr>\n    <tr>\n      <th>114</th>\n      <td>14481.05</td>\n      <td>15606.35</td>\n      <td>14416.25</td>\n      <td>15582.80</td>\n    </tr>\n    <tr>\n      <th>115</th>\n      <td>15617.15</td>\n      <td>15904.05</td>\n      <td>15452.20</td>\n      <td>15721.50</td>\n    </tr>\n    <tr>\n      <th>116</th>\n      <td>15750.05</td>\n      <td>15913.95</td>\n      <td>15634.50</td>\n      <td>15752.35</td>\n    </tr>\n  </tbody>\n</table>\n<p>117 rows × 4 columns</p>\n</div>"
     },
     "metadata": {},
     "execution_count": 6
    }
   ],
   "source": [
    "adjusted.reset_index(drop=True, inplace=True)\n",
    "adjusted"
   ]
  },
  {
   "cell_type": "code",
   "execution_count": 8,
   "metadata": {},
   "outputs": [
    {
     "output_type": "execute_result",
     "data": {
      "text/plain": [
       "                Open     High      Low    Close\n",
       "Date                                           \n",
       "Nov 01 2011  5278.60  5326.45  4639.10  4832.05\n",
       "Dec 01 2011  4970.85  5099.25  4531.15  4624.30\n",
       "Jan 01 2012  4640.20  5217.00  4588.05  5199.25\n",
       "Feb 01 2012  5198.15  5629.95  5159.00  5385.20\n",
       "Mar 01 2012  5366.00  5499.40  5135.95  5295.55"
      ],
      "text/html": "<div>\n<style scoped>\n    .dataframe tbody tr th:only-of-type {\n        vertical-align: middle;\n    }\n\n    .dataframe tbody tr th {\n        vertical-align: top;\n    }\n\n    .dataframe thead th {\n        text-align: right;\n    }\n</style>\n<table border=\"1\" class=\"dataframe\">\n  <thead>\n    <tr style=\"text-align: right;\">\n      <th></th>\n      <th>Open</th>\n      <th>High</th>\n      <th>Low</th>\n      <th>Close</th>\n    </tr>\n    <tr>\n      <th>Date</th>\n      <th></th>\n      <th></th>\n      <th></th>\n      <th></th>\n    </tr>\n  </thead>\n  <tbody>\n    <tr>\n      <th>Nov 01 2011</th>\n      <td>5278.60</td>\n      <td>5326.45</td>\n      <td>4639.10</td>\n      <td>4832.05</td>\n    </tr>\n    <tr>\n      <th>Dec 01 2011</th>\n      <td>4970.85</td>\n      <td>5099.25</td>\n      <td>4531.15</td>\n      <td>4624.30</td>\n    </tr>\n    <tr>\n      <th>Jan 01 2012</th>\n      <td>4640.20</td>\n      <td>5217.00</td>\n      <td>4588.05</td>\n      <td>5199.25</td>\n    </tr>\n    <tr>\n      <th>Feb 01 2012</th>\n      <td>5198.15</td>\n      <td>5629.95</td>\n      <td>5159.00</td>\n      <td>5385.20</td>\n    </tr>\n    <tr>\n      <th>Mar 01 2012</th>\n      <td>5366.00</td>\n      <td>5499.40</td>\n      <td>5135.95</td>\n      <td>5295.55</td>\n    </tr>\n  </tbody>\n</table>\n</div>"
     },
     "metadata": {},
     "execution_count": 8
    }
   ],
   "source": [
    "adjusted.set_index(date, inplace=True, drop=True)\n",
    "adjusted.head()"
   ]
  },
  {
   "source": [
    "import plotly.graph_objects as go"
   ],
   "cell_type": "code",
   "metadata": {},
   "execution_count": 9,
   "outputs": []
  },
  {
   "cell_type": "code",
   "execution_count": 10,
   "metadata": {},
   "outputs": [],
   "source": [
    "figure = go.Figure(\n",
    "    data = [\n",
    "        go.Candlestick(\n",
    "            x = adjusted.index,\n",
    "            open = adjusted['Open'],\n",
    "            high = adjusted['High'],\n",
    "            low = adjusted['Low'],\n",
    "            close = adjusted['Close'],\n",
    "            increasing_line_color = 'green',\n",
    "            decreasing_line_color = 'red'\n",
    "        )\n",
    "    ]\n",
    ")"
   ]
  },
  {
   "cell_type": "code",
   "execution_count": 11,
   "metadata": {},
   "outputs": [
    {
     "output_type": "display_data",
     "data": {
      "application/vnd.plotly.v1+json": {
       "config": {
        "plotlyServerURL": "https://plot.ly"
       },
       "data": [
        {
         "close": [
          4832.05,
          4624.3,
          5199.25,
          5385.2,
          5295.55,
          5248.15,
          4924.25,
          5278.9,
          5229,
          5258.5,
          5703.3,
          5619.7,
          5879.85,
          5905.1,
          6034.75,
          5693.05,
          5682.55,
          5930.2,
          5985.95,
          5842.2,
          5742,
          5471.8,
          5735.3,
          6299.15,
          6176.1,
          6304,
          6089.5,
          6276.95,
          6704.2,
          6696.4,
          7229.95,
          7611.35,
          7721.3,
          7954.35,
          7964.8,
          8322.2,
          8588.25,
          8282.7,
          8808.9,
          8901.85,
          8491,
          8181.5,
          8433.65,
          8368.5,
          8532.85,
          7971.3,
          7948.9,
          8065.8,
          7935.25,
          7946.35,
          7563.55,
          6987.05,
          7738.4,
          7849.8,
          8160.1,
          8287.75,
          8638.5,
          8786.2,
          8611.15,
          8625.7,
          8224.5,
          8185.8,
          8561.3,
          8879.6,
          9173.75,
          9304.05,
          9621.25,
          9520.9,
          10077.1,
          9917.9,
          9788.6,
          10335.3,
          10226.55,
          10530.7,
          11027.7,
          10492.85,
          10113.7,
          10739.35,
          10736.15,
          10714.3,
          11356.5,
          11680.5,
          10930.45,
          10386.6,
          10876.75,
          10862.55,
          10830.95,
          10792.5,
          11623.9,
          11748.15,
          11922.8,
          11788.85,
          11118,
          11023.25,
          11474.45,
          11877.45,
          12056.05,
          12168.45,
          11962.1,
          11201.75,
          8597.75,
          9859.9,
          9580.3,
          10302.1,
          11073.45,
          11387.5,
          11247.55,
          11642.4,
          12968.95,
          13981.75,
          13634.6,
          14529.15,
          14690.7,
          14631.1,
          15582.8,
          15721.5,
          15752.35
         ],
         "decreasing": {
          "line": {
           "color": "red"
          }
         },
         "high": [
          5326.45,
          5099.25,
          5217,
          5629.95,
          5499.4,
          5378.75,
          5279.6,
          5286.25,
          5348.55,
          5448.6,
          5735.15,
          5815.35,
          5885.25,
          5965.15,
          6111.8,
          6052.95,
          5971.2,
          5962.3,
          6229.45,
          6011,
          6093.35,
          5808.5,
          6142.5,
          6309.05,
          6342.95,
          6415.25,
          6358.3,
          6282.7,
          6730.05,
          6869.85,
          7563.5,
          7700.05,
          7840.95,
          7968.25,
          8180.2,
          8330.75,
          8617,
          8626.95,
          8996.6,
          8941.1,
          9119.2,
          8844.8,
          8489.55,
          8467.15,
          8654.75,
          8621.55,
          8055,
          8336.3,
          8116.1,
          7979.3,
          7972.55,
          7600.45,
          7777.6,
          7992,
          8213.6,
          8308.15,
          8674.7,
          8819.2,
          8968.7,
          8806.95,
          8669.6,
          8274.95,
          8672.7,
          8982.15,
          9218.4,
          9367.15,
          9649.6,
          9709.3,
          10114.85,
          10137.85,
          10178.95,
          10384.5,
          10490.45,
          10552.4,
          11171.55,
          11117.35,
          10525.5,
          10759,
          10929.2,
          10893.25,
          11366,
          11760.2,
          11751.8,
          11035.65,
          10922.45,
          10985.15,
          10987.45,
          11118.1,
          11630.35,
          11856.15,
          12041.15,
          12103.05,
          11981.75,
          11181.45,
          11694.85,
          11945,
          12158.8,
          12293.9,
          12430.5,
          12246.7,
          11433,
          9889.05,
          9598.85,
          10553.15,
          11341.4,
          11794.25,
          11618.1,
          12025.45,
          13145.85,
          14024.85,
          14753.55,
          15431.75,
          15336.3,
          15044.35,
          15606.35,
          15904.05,
          15913.95
         ],
         "increasing": {
          "line": {
           "color": "green"
          }
         },
         "low": [
          4639.1,
          4531.15,
          4588.05,
          5159,
          5135.95,
          5154.3,
          4788.95,
          4770.35,
          5032.4,
          5164.65,
          5215.7,
          4888.2,
          5548.35,
          5823.15,
          5935.2,
          5671.9,
          5604.85,
          5477.2,
          5910.95,
          5566.25,
          5675.75,
          5118.85,
          5318.9,
          5700.95,
          5972.45,
          6129.95,
          6027.25,
          5933.3,
          6212.25,
          6650.4,
          6638.55,
          7239.5,
          7422.15,
          7540.1,
          7841.8,
          7723.85,
          8290.25,
          7961.35,
          8065.45,
          8470.5,
          8269.15,
          8144.75,
          7997.15,
          7940.3,
          8315.4,
          7667.25,
          7539.5,
          7930.65,
          7714.15,
          7551.05,
          7241.5,
          6825.8,
          7035.1,
          7516.85,
          7678.35,
          7927.05,
          8287.55,
          8518.15,
          8555.2,
          8506.15,
          7916.4,
          7893.8,
          8133.8,
          8537.5,
          8860.1,
          9075.15,
          9269.9,
          9448.75,
          9543.55,
          9685.55,
          9687.55,
          9831.05,
          10094,
          10033.35,
          10404.65,
          10276.3,
          9951.9,
          10111.3,
          10417.8,
          10550.9,
          10604.65,
          11234.95,
          10850.3,
          10004.55,
          10341.9,
          10333.85,
          10583.65,
          10585.65,
          10817,
          11549.1,
          11108.3,
          11625.1,
          10999.4,
          10637.15,
          10670.25,
          11090.15,
          11802.65,
          11832.3,
          11929.6,
          11175.05,
          7511.1,
          8055.8,
          8806.75,
          9544.35,
          10299.6,
          10882.25,
          10790.2,
          11347.05,
          11557.4,
          12962.8,
          13596.75,
          13661.75,
          14264.4,
          14151.4,
          14416.25,
          15452.2,
          15634.5
         ],
         "open": [
          5278.6,
          4970.85,
          4640.2,
          5198.15,
          5366,
          5296.35,
          5254.3,
          4910.85,
          5283.85,
          5220.7,
          5276.5,
          5704.75,
          5609.85,
          5878.25,
          5937.65,
          6040.95,
          5702.45,
          5697.35,
          5911.4,
          5997.35,
          5834.1,
          5776.9,
          5480.25,
          5756.1,
          6289.75,
          6171.15,
          6323.8,
          6058.8,
          6264.35,
          6729.5,
          6709.95,
          7264.05,
          7629,
          7662.5,
          7990.35,
          7960.5,
          8348.15,
          8605.1,
          8272.8,
          8802.5,
          8953.85,
          8483.7,
          8230.05,
          8417.25,
          8376.25,
          8510.65,
          7907.95,
          7992.05,
          8054.55,
          7958.15,
          7938.45,
          7589.5,
          7038.25,
          7718.05,
          7822.7,
          8179.2,
          8313.05,
          8654.3,
          8793.6,
          8666.15,
          8653.15,
          8244,
          8210.1,
          8570.35,
          8904.4,
          9220.6,
          9339.85,
          9603.55,
          9587.95,
          10101.05,
          9937.65,
          9893.3,
          10390.35,
          10263.7,
          10531.7,
          11044.55,
          10479.95,
          10151.65,
          10783.85,
          10738.45,
          10732.35,
          11359.8,
          11751.8,
          10930.9,
          10441.7,
          10930.7,
          10881.7,
          10851.35,
          10842.65,
          11665.2,
          11725.55,
          11953.75,
          11839.9,
          11060.2,
          10960.95,
          11515.4,
          11886.6,
          12137.05,
          12202.15,
          11939,
          11387.35,
          8584.1,
          9533.5,
          9726.85,
          10323.8,
          11057.55,
          11464.3,
          11364.45,
          11697.35,
          13062.2,
          13996.1,
          13758.6,
          14702.5,
          14798.4,
          14481.05,
          15617.15,
          15750.05
         ],
         "type": "candlestick",
         "x": [
          "Nov 01 2011",
          "Dec 01 2011",
          "Jan 01 2012",
          "Feb 01 2012",
          "Mar 01 2012",
          "Apr 01 2012",
          "May 01 2012",
          "Jun 01 2012",
          "Jul 01 2012",
          "Aug 01 2012",
          "Sep 01 2012",
          "Oct 01 2012",
          "Nov 01 2012",
          "Dec 01 2012",
          "Jan 01 2013",
          "Feb 01 2013",
          "Mar 01 2013",
          "Apr 01 2013",
          "May 01 2013",
          "Jun 01 2013",
          "Jul 01 2013",
          "Aug 01 2013",
          "Sep 01 2013",
          "Oct 01 2013",
          "Nov 01 2013",
          "Dec 01 2013",
          "Jan 01 2014",
          "Feb 01 2014",
          "Mar 01 2014",
          "Apr 01 2014",
          "May 01 2014",
          "Jun 01 2014",
          "Jul 01 2014",
          "Aug 01 2014",
          "Sep 01 2014",
          "Oct 01 2014",
          "Nov 01 2014",
          "Dec 01 2014",
          "Jan 01 2015",
          "Feb 01 2015",
          "Mar 01 2015",
          "Apr 01 2015",
          "May 01 2015",
          "Jun 01 2015",
          "Jul 01 2015",
          "Aug 01 2015",
          "Sep 01 2015",
          "Oct 01 2015",
          "Nov 01 2015",
          "Dec 01 2015",
          "Jan 01 2016",
          "Feb 01 2016",
          "Mar 01 2016",
          "Apr 01 2016",
          "May 01 2016",
          "Jun 01 2016",
          "Jul 01 2016",
          "Aug 01 2016",
          "Sep 01 2016",
          "Oct 01 2016",
          "Nov 01 2016",
          "Dec 01 2016",
          "Jan 01 2017",
          "Feb 01 2017",
          "Mar 01 2017",
          "Apr 01 2017",
          "May 01 2017",
          "Jun 01 2017",
          "Jul 01 2017",
          "Aug 01 2017",
          "Sep 01 2017",
          "Oct 01 2017",
          "Nov 01 2017",
          "Dec 01 2017",
          "Jan 01 2018",
          "Feb 01 2018",
          "Mar 01 2018",
          "Apr 01 2018",
          "May 01 2018",
          "Jun 01 2018",
          "Jul 01 2018",
          "Aug 01 2018",
          "Sep 01 2018",
          "Oct 01 2018",
          "Nov 01 2018",
          "Dec 01 2018",
          "Jan 01 2019",
          "Feb 01 2019",
          "Mar 01 2019",
          "Apr 01 2019",
          "May 01 2019",
          "Jun 01 2019",
          "Jul 01 2019",
          "Aug 01 2019",
          "Sep 01 2019",
          "Oct 01 2019",
          "Nov 01 2019",
          "Dec 01 2019",
          "Jan 01 2020",
          "Feb 01 2020",
          "Mar 01 2020",
          "Apr 01 2020",
          "May 01 2020",
          "Jun 01 2020",
          "Jul 01 2020",
          "Aug 01 2020",
          "Sep 01 2020",
          "Oct 01 2020",
          "Nov 01 2020",
          "Dec 01 2020",
          "Jan 01 2021",
          "Feb 01 2021",
          "Mar 01 2021",
          "Apr 01 2021",
          "May 01 2021",
          "Jun 01 2021",
          "Jul 01 2021"
         ]
        }
       ],
       "layout": {
        "template": {
         "data": {
          "bar": [
           {
            "error_x": {
             "color": "#2a3f5f"
            },
            "error_y": {
             "color": "#2a3f5f"
            },
            "marker": {
             "line": {
              "color": "#E5ECF6",
              "width": 0.5
             },
             "pattern": {
              "fillmode": "overlay",
              "size": 10,
              "solidity": 0.2
             }
            },
            "type": "bar"
           }
          ],
          "barpolar": [
           {
            "marker": {
             "line": {
              "color": "#E5ECF6",
              "width": 0.5
             },
             "pattern": {
              "fillmode": "overlay",
              "size": 10,
              "solidity": 0.2
             }
            },
            "type": "barpolar"
           }
          ],
          "carpet": [
           {
            "aaxis": {
             "endlinecolor": "#2a3f5f",
             "gridcolor": "white",
             "linecolor": "white",
             "minorgridcolor": "white",
             "startlinecolor": "#2a3f5f"
            },
            "baxis": {
             "endlinecolor": "#2a3f5f",
             "gridcolor": "white",
             "linecolor": "white",
             "minorgridcolor": "white",
             "startlinecolor": "#2a3f5f"
            },
            "type": "carpet"
           }
          ],
          "choropleth": [
           {
            "colorbar": {
             "outlinewidth": 0,
             "ticks": ""
            },
            "type": "choropleth"
           }
          ],
          "contour": [
           {
            "colorbar": {
             "outlinewidth": 0,
             "ticks": ""
            },
            "colorscale": [
             [
              0,
              "#0d0887"
             ],
             [
              0.1111111111111111,
              "#46039f"
             ],
             [
              0.2222222222222222,
              "#7201a8"
             ],
             [
              0.3333333333333333,
              "#9c179e"
             ],
             [
              0.4444444444444444,
              "#bd3786"
             ],
             [
              0.5555555555555556,
              "#d8576b"
             ],
             [
              0.6666666666666666,
              "#ed7953"
             ],
             [
              0.7777777777777778,
              "#fb9f3a"
             ],
             [
              0.8888888888888888,
              "#fdca26"
             ],
             [
              1,
              "#f0f921"
             ]
            ],
            "type": "contour"
           }
          ],
          "contourcarpet": [
           {
            "colorbar": {
             "outlinewidth": 0,
             "ticks": ""
            },
            "type": "contourcarpet"
           }
          ],
          "heatmap": [
           {
            "colorbar": {
             "outlinewidth": 0,
             "ticks": ""
            },
            "colorscale": [
             [
              0,
              "#0d0887"
             ],
             [
              0.1111111111111111,
              "#46039f"
             ],
             [
              0.2222222222222222,
              "#7201a8"
             ],
             [
              0.3333333333333333,
              "#9c179e"
             ],
             [
              0.4444444444444444,
              "#bd3786"
             ],
             [
              0.5555555555555556,
              "#d8576b"
             ],
             [
              0.6666666666666666,
              "#ed7953"
             ],
             [
              0.7777777777777778,
              "#fb9f3a"
             ],
             [
              0.8888888888888888,
              "#fdca26"
             ],
             [
              1,
              "#f0f921"
             ]
            ],
            "type": "heatmap"
           }
          ],
          "heatmapgl": [
           {
            "colorbar": {
             "outlinewidth": 0,
             "ticks": ""
            },
            "colorscale": [
             [
              0,
              "#0d0887"
             ],
             [
              0.1111111111111111,
              "#46039f"
             ],
             [
              0.2222222222222222,
              "#7201a8"
             ],
             [
              0.3333333333333333,
              "#9c179e"
             ],
             [
              0.4444444444444444,
              "#bd3786"
             ],
             [
              0.5555555555555556,
              "#d8576b"
             ],
             [
              0.6666666666666666,
              "#ed7953"
             ],
             [
              0.7777777777777778,
              "#fb9f3a"
             ],
             [
              0.8888888888888888,
              "#fdca26"
             ],
             [
              1,
              "#f0f921"
             ]
            ],
            "type": "heatmapgl"
           }
          ],
          "histogram": [
           {
            "marker": {
             "pattern": {
              "fillmode": "overlay",
              "size": 10,
              "solidity": 0.2
             }
            },
            "type": "histogram"
           }
          ],
          "histogram2d": [
           {
            "colorbar": {
             "outlinewidth": 0,
             "ticks": ""
            },
            "colorscale": [
             [
              0,
              "#0d0887"
             ],
             [
              0.1111111111111111,
              "#46039f"
             ],
             [
              0.2222222222222222,
              "#7201a8"
             ],
             [
              0.3333333333333333,
              "#9c179e"
             ],
             [
              0.4444444444444444,
              "#bd3786"
             ],
             [
              0.5555555555555556,
              "#d8576b"
             ],
             [
              0.6666666666666666,
              "#ed7953"
             ],
             [
              0.7777777777777778,
              "#fb9f3a"
             ],
             [
              0.8888888888888888,
              "#fdca26"
             ],
             [
              1,
              "#f0f921"
             ]
            ],
            "type": "histogram2d"
           }
          ],
          "histogram2dcontour": [
           {
            "colorbar": {
             "outlinewidth": 0,
             "ticks": ""
            },
            "colorscale": [
             [
              0,
              "#0d0887"
             ],
             [
              0.1111111111111111,
              "#46039f"
             ],
             [
              0.2222222222222222,
              "#7201a8"
             ],
             [
              0.3333333333333333,
              "#9c179e"
             ],
             [
              0.4444444444444444,
              "#bd3786"
             ],
             [
              0.5555555555555556,
              "#d8576b"
             ],
             [
              0.6666666666666666,
              "#ed7953"
             ],
             [
              0.7777777777777778,
              "#fb9f3a"
             ],
             [
              0.8888888888888888,
              "#fdca26"
             ],
             [
              1,
              "#f0f921"
             ]
            ],
            "type": "histogram2dcontour"
           }
          ],
          "mesh3d": [
           {
            "colorbar": {
             "outlinewidth": 0,
             "ticks": ""
            },
            "type": "mesh3d"
           }
          ],
          "parcoords": [
           {
            "line": {
             "colorbar": {
              "outlinewidth": 0,
              "ticks": ""
             }
            },
            "type": "parcoords"
           }
          ],
          "pie": [
           {
            "automargin": true,
            "type": "pie"
           }
          ],
          "scatter": [
           {
            "marker": {
             "colorbar": {
              "outlinewidth": 0,
              "ticks": ""
             }
            },
            "type": "scatter"
           }
          ],
          "scatter3d": [
           {
            "line": {
             "colorbar": {
              "outlinewidth": 0,
              "ticks": ""
             }
            },
            "marker": {
             "colorbar": {
              "outlinewidth": 0,
              "ticks": ""
             }
            },
            "type": "scatter3d"
           }
          ],
          "scattercarpet": [
           {
            "marker": {
             "colorbar": {
              "outlinewidth": 0,
              "ticks": ""
             }
            },
            "type": "scattercarpet"
           }
          ],
          "scattergeo": [
           {
            "marker": {
             "colorbar": {
              "outlinewidth": 0,
              "ticks": ""
             }
            },
            "type": "scattergeo"
           }
          ],
          "scattergl": [
           {
            "marker": {
             "colorbar": {
              "outlinewidth": 0,
              "ticks": ""
             }
            },
            "type": "scattergl"
           }
          ],
          "scattermapbox": [
           {
            "marker": {
             "colorbar": {
              "outlinewidth": 0,
              "ticks": ""
             }
            },
            "type": "scattermapbox"
           }
          ],
          "scatterpolar": [
           {
            "marker": {
             "colorbar": {
              "outlinewidth": 0,
              "ticks": ""
             }
            },
            "type": "scatterpolar"
           }
          ],
          "scatterpolargl": [
           {
            "marker": {
             "colorbar": {
              "outlinewidth": 0,
              "ticks": ""
             }
            },
            "type": "scatterpolargl"
           }
          ],
          "scatterternary": [
           {
            "marker": {
             "colorbar": {
              "outlinewidth": 0,
              "ticks": ""
             }
            },
            "type": "scatterternary"
           }
          ],
          "surface": [
           {
            "colorbar": {
             "outlinewidth": 0,
             "ticks": ""
            },
            "colorscale": [
             [
              0,
              "#0d0887"
             ],
             [
              0.1111111111111111,
              "#46039f"
             ],
             [
              0.2222222222222222,
              "#7201a8"
             ],
             [
              0.3333333333333333,
              "#9c179e"
             ],
             [
              0.4444444444444444,
              "#bd3786"
             ],
             [
              0.5555555555555556,
              "#d8576b"
             ],
             [
              0.6666666666666666,
              "#ed7953"
             ],
             [
              0.7777777777777778,
              "#fb9f3a"
             ],
             [
              0.8888888888888888,
              "#fdca26"
             ],
             [
              1,
              "#f0f921"
             ]
            ],
            "type": "surface"
           }
          ],
          "table": [
           {
            "cells": {
             "fill": {
              "color": "#EBF0F8"
             },
             "line": {
              "color": "white"
             }
            },
            "header": {
             "fill": {
              "color": "#C8D4E3"
             },
             "line": {
              "color": "white"
             }
            },
            "type": "table"
           }
          ]
         },
         "layout": {
          "annotationdefaults": {
           "arrowcolor": "#2a3f5f",
           "arrowhead": 0,
           "arrowwidth": 1
          },
          "autotypenumbers": "strict",
          "coloraxis": {
           "colorbar": {
            "outlinewidth": 0,
            "ticks": ""
           }
          },
          "colorscale": {
           "diverging": [
            [
             0,
             "#8e0152"
            ],
            [
             0.1,
             "#c51b7d"
            ],
            [
             0.2,
             "#de77ae"
            ],
            [
             0.3,
             "#f1b6da"
            ],
            [
             0.4,
             "#fde0ef"
            ],
            [
             0.5,
             "#f7f7f7"
            ],
            [
             0.6,
             "#e6f5d0"
            ],
            [
             0.7,
             "#b8e186"
            ],
            [
             0.8,
             "#7fbc41"
            ],
            [
             0.9,
             "#4d9221"
            ],
            [
             1,
             "#276419"
            ]
           ],
           "sequential": [
            [
             0,
             "#0d0887"
            ],
            [
             0.1111111111111111,
             "#46039f"
            ],
            [
             0.2222222222222222,
             "#7201a8"
            ],
            [
             0.3333333333333333,
             "#9c179e"
            ],
            [
             0.4444444444444444,
             "#bd3786"
            ],
            [
             0.5555555555555556,
             "#d8576b"
            ],
            [
             0.6666666666666666,
             "#ed7953"
            ],
            [
             0.7777777777777778,
             "#fb9f3a"
            ],
            [
             0.8888888888888888,
             "#fdca26"
            ],
            [
             1,
             "#f0f921"
            ]
           ],
           "sequentialminus": [
            [
             0,
             "#0d0887"
            ],
            [
             0.1111111111111111,
             "#46039f"
            ],
            [
             0.2222222222222222,
             "#7201a8"
            ],
            [
             0.3333333333333333,
             "#9c179e"
            ],
            [
             0.4444444444444444,
             "#bd3786"
            ],
            [
             0.5555555555555556,
             "#d8576b"
            ],
            [
             0.6666666666666666,
             "#ed7953"
            ],
            [
             0.7777777777777778,
             "#fb9f3a"
            ],
            [
             0.8888888888888888,
             "#fdca26"
            ],
            [
             1,
             "#f0f921"
            ]
           ]
          },
          "colorway": [
           "#636efa",
           "#EF553B",
           "#00cc96",
           "#ab63fa",
           "#FFA15A",
           "#19d3f3",
           "#FF6692",
           "#B6E880",
           "#FF97FF",
           "#FECB52"
          ],
          "font": {
           "color": "#2a3f5f"
          },
          "geo": {
           "bgcolor": "white",
           "lakecolor": "white",
           "landcolor": "#E5ECF6",
           "showlakes": true,
           "showland": true,
           "subunitcolor": "white"
          },
          "hoverlabel": {
           "align": "left"
          },
          "hovermode": "closest",
          "mapbox": {
           "style": "light"
          },
          "paper_bgcolor": "white",
          "plot_bgcolor": "#E5ECF6",
          "polar": {
           "angularaxis": {
            "gridcolor": "white",
            "linecolor": "white",
            "ticks": ""
           },
           "bgcolor": "#E5ECF6",
           "radialaxis": {
            "gridcolor": "white",
            "linecolor": "white",
            "ticks": ""
           }
          },
          "scene": {
           "xaxis": {
            "backgroundcolor": "#E5ECF6",
            "gridcolor": "white",
            "gridwidth": 2,
            "linecolor": "white",
            "showbackground": true,
            "ticks": "",
            "zerolinecolor": "white"
           },
           "yaxis": {
            "backgroundcolor": "#E5ECF6",
            "gridcolor": "white",
            "gridwidth": 2,
            "linecolor": "white",
            "showbackground": true,
            "ticks": "",
            "zerolinecolor": "white"
           },
           "zaxis": {
            "backgroundcolor": "#E5ECF6",
            "gridcolor": "white",
            "gridwidth": 2,
            "linecolor": "white",
            "showbackground": true,
            "ticks": "",
            "zerolinecolor": "white"
           }
          },
          "shapedefaults": {
           "line": {
            "color": "#2a3f5f"
           }
          },
          "ternary": {
           "aaxis": {
            "gridcolor": "white",
            "linecolor": "white",
            "ticks": ""
           },
           "baxis": {
            "gridcolor": "white",
            "linecolor": "white",
            "ticks": ""
           },
           "bgcolor": "#E5ECF6",
           "caxis": {
            "gridcolor": "white",
            "linecolor": "white",
            "ticks": ""
           }
          },
          "title": {
           "x": 0.05
          },
          "xaxis": {
           "automargin": true,
           "gridcolor": "white",
           "linecolor": "white",
           "ticks": "",
           "title": {
            "standoff": 15
           },
           "zerolinecolor": "white",
           "zerolinewidth": 2
          },
          "yaxis": {
           "automargin": true,
           "gridcolor": "white",
           "linecolor": "white",
           "ticks": "",
           "title": {
            "standoff": 15
           },
           "zerolinecolor": "white",
           "zerolinewidth": 2
          }
         }
        }
       }
      }
     },
     "metadata": {}
    }
   ],
   "source": [
    "figure.show()"
   ]
  },
  {
   "cell_type": "code",
   "execution_count": 13,
   "metadata": {},
   "outputs": [
    {
     "output_type": "execute_result",
     "data": {
      "text/plain": [
       "[{'label': 'All', 'Value': 'all'},\n",
       " {'label': 'Open', 'value': 'Open'},\n",
       " {'label': 'High', 'value': 'High'},\n",
       " {'label': 'Low', 'value': 'Low'},\n",
       " {'label': 'Close', 'value': 'Close'}]"
      ]
     },
     "metadata": {},
     "execution_count": 13
    }
   ],
   "source": [
    "ohlc_options = [{\"label\": \"All\", \"Value\": \"all\"}]\n",
    "ohlc_options += [{ 'label': i, 'value': i } for i in adjusted.columns]\n",
    "ohlc_options"
   ]
  },
  {
   "cell_type": "code",
   "execution_count": 3,
   "metadata": {},
   "outputs": [],
   "source": [
    "import datetime"
   ]
  },
  {
   "cell_type": "code",
   "execution_count": 6,
   "metadata": {},
   "outputs": [
    {
     "output_type": "execute_result",
     "data": {
      "text/plain": [
       "'2021-07-13'"
      ]
     },
     "metadata": {},
     "execution_count": 6
    }
   ],
   "source": [
    "date = datetime.datetime.now().date()\n",
    "str(date)"
   ]
  },
  {
   "cell_type": "code",
   "execution_count": 5,
   "metadata": {},
   "outputs": [
    {
     "output_type": "execute_result",
     "data": {
      "text/plain": [
       "'2021-07-06'"
      ]
     },
     "metadata": {},
     "execution_count": 5
    }
   ],
   "source": [
    "bef = date - datetime.timedelta(days=7)\n",
    "str(bef)"
   ]
  },
  {
   "cell_type": "code",
   "execution_count": 12,
   "metadata": {},
   "outputs": [],
   "source": [
    "now = datetime.datetime.now().date()\n",
    "\n",
    "now = f\"{now.day}/{now.month}/{now.year}\""
   ]
  },
  {
   "cell_type": "code",
   "execution_count": 47,
   "metadata": {},
   "outputs": [],
   "source": [
    "df_nifty = investpy.get_index_historical_data(\n",
    "    index=\"Nifty 50\", from_date='01/01/1995', to_date=now, country=\"india\", interval=\"Daily\")"
   ]
  },
  {
   "cell_type": "code",
   "execution_count": 48,
   "metadata": {},
   "outputs": [],
   "source": [
    "def prepare_dataframe(df):\n",
    "    ''' Prepares Dataframe for the plotly graph plotting '''\n",
    "\n",
    "    df = df.drop(columns=['Volume', 'Currency'])\n",
    "    date = df.index.strftime(\"%b %d %Y\")\n",
    "    date = date.to_flat_index()\n",
    "    df.reset_index(inplace=True, drop=True)\n",
    "    df.set_index(date, inplace=True, drop=True)\n",
    "\n",
    "    return df"
   ]
  },
  {
   "cell_type": "code",
   "execution_count": 62,
   "metadata": {},
   "outputs": [
    {
     "output_type": "execute_result",
     "data": {
      "text/plain": [
       "Date\n",
       "Jul 02 1996     1109.00\n",
       "Jul 03 1996     1100.00\n",
       "Jul 04 1996     1080.00\n",
       "Jul 05 1996     1089.00\n",
       "Jul 08 1996     1095.08\n",
       "                 ...   \n",
       "Jul 07 2021    15819.60\n",
       "Jul 08 2021    15855.40\n",
       "Jul 09 2021    15688.25\n",
       "Jul 12 2021    15766.80\n",
       "Jul 13 2021    15789.65\n",
       "Name: Open, Length: 222, dtype: float64"
      ]
     },
     "metadata": {},
     "execution_count": 62
    }
   ],
   "source": [
    "end = datetime.datetime.now().date()\n",
    "d = 12\n",
    "nifty_start = (end - datetime.timedelta(days=d)).strftime(\"%b %d %Y\")\n",
    "\n",
    "end = end.strftime(\"%b %d %Y\")\n",
    "\n",
    "df_nifty_prep = prepare_dataframe(df_nifty)\n",
    "\n",
    "nifty_data = df_nifty_prep[(df_nifty_prep.index > nifty_start) & (df_nifty_prep.index <= end)]['Open']\n",
    "nifty_data"
   ]
  },
  {
   "cell_type": "code",
   "execution_count": null,
   "metadata": {},
   "outputs": [],
   "source": []
  }
 ]
}